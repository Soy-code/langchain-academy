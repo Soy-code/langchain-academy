{
 "cells": [
  {
   "cell_type": "code",
   "execution_count": 4,
   "metadata": {},
   "outputs": [],
   "source": [
    "# Load libraries\n",
    "import os\n",
    "import random\n",
    "import numpy as np\n",
    "import pandas as pd\n",
    "from typing import Literal\n",
    "from typing_extensions import TypedDict\n",
    "from dotenv import load_dotenv, find_dotenv\n",
    "\n",
    "from langchain_core.messages import HumanMessage, SystemMessage, RemoveMessage\n",
    "from langgraph.graph import MessagesState\n",
    "from langgraph.graph import StateGraph, START, END\n",
    "from langchain_openai import ChatOpenAI\n",
    "\n",
    "from langchain.chains import RetrievalQA\n",
    "from langchain.document_loaders import TextLoader\n",
    "from langchain.embeddings.openai import OpenAIEmbeddings\n",
    "from langchain.llms import OpenAI\n",
    "from langchain.text_splitter import CharacterTextSplitter\n",
    "from langchain.document_loaders.csv_loader import CSVLoader\n",
    "from langchain.vectorstores import Chroma\n",
    "from langchain_core.prompts import ChatPromptTemplate\n",
    "from IPython.display import Image, display\n",
    "\n",
    "# import chromadb"
   ]
  },
  {
   "cell_type": "code",
   "execution_count": 5,
   "metadata": {},
   "outputs": [],
   "source": [
    "# LLM 모델 정의\n",
    "model = ChatOpenAI(model=\"gpt-4o\", temperature=0)"
   ]
  },
  {
   "cell_type": "code",
   "execution_count": 10,
   "metadata": {},
   "outputs": [
    {
     "data": {
      "text/html": [
       "<div>\n",
       "<style scoped>\n",
       "    .dataframe tbody tr th:only-of-type {\n",
       "        vertical-align: middle;\n",
       "    }\n",
       "\n",
       "    .dataframe tbody tr th {\n",
       "        vertical-align: top;\n",
       "    }\n",
       "\n",
       "    .dataframe thead th {\n",
       "        text-align: right;\n",
       "    }\n",
       "</style>\n",
       "<table border=\"1\" class=\"dataframe\">\n",
       "  <thead>\n",
       "    <tr style=\"text-align: right;\">\n",
       "      <th></th>\n",
       "      <th>Unnamed: 0</th>\n",
       "      <th>user_id</th>\n",
       "      <th>item_id</th>\n",
       "      <th>rating</th>\n",
       "      <th>movie_title</th>\n",
       "      <th>release_date</th>\n",
       "      <th>unknown</th>\n",
       "      <th>Action</th>\n",
       "      <th>Adventure</th>\n",
       "      <th>Animation</th>\n",
       "      <th>...</th>\n",
       "      <th>Mystery</th>\n",
       "      <th>Romance</th>\n",
       "      <th>Sci-Fi</th>\n",
       "      <th>Thriller</th>\n",
       "      <th>War</th>\n",
       "      <th>Western</th>\n",
       "      <th>age</th>\n",
       "      <th>gender</th>\n",
       "      <th>occupation</th>\n",
       "      <th>zip_code</th>\n",
       "    </tr>\n",
       "  </thead>\n",
       "  <tbody>\n",
       "    <tr>\n",
       "      <th>0</th>\n",
       "      <td>0</td>\n",
       "      <td>196</td>\n",
       "      <td>242</td>\n",
       "      <td>3</td>\n",
       "      <td>Kolya (1996)</td>\n",
       "      <td>24-Jan-1997</td>\n",
       "      <td>0</td>\n",
       "      <td>0</td>\n",
       "      <td>0</td>\n",
       "      <td>0</td>\n",
       "      <td>...</td>\n",
       "      <td>0</td>\n",
       "      <td>0</td>\n",
       "      <td>0</td>\n",
       "      <td>0</td>\n",
       "      <td>0</td>\n",
       "      <td>0</td>\n",
       "      <td>49</td>\n",
       "      <td>M</td>\n",
       "      <td>writer</td>\n",
       "      <td>55105</td>\n",
       "    </tr>\n",
       "    <tr>\n",
       "      <th>1</th>\n",
       "      <td>1</td>\n",
       "      <td>186</td>\n",
       "      <td>302</td>\n",
       "      <td>3</td>\n",
       "      <td>L.A. Confidential (1997)</td>\n",
       "      <td>01-Jan-1997</td>\n",
       "      <td>0</td>\n",
       "      <td>0</td>\n",
       "      <td>0</td>\n",
       "      <td>0</td>\n",
       "      <td>...</td>\n",
       "      <td>1</td>\n",
       "      <td>0</td>\n",
       "      <td>0</td>\n",
       "      <td>1</td>\n",
       "      <td>0</td>\n",
       "      <td>0</td>\n",
       "      <td>39</td>\n",
       "      <td>F</td>\n",
       "      <td>executive</td>\n",
       "      <td>00000</td>\n",
       "    </tr>\n",
       "    <tr>\n",
       "      <th>2</th>\n",
       "      <td>2</td>\n",
       "      <td>22</td>\n",
       "      <td>377</td>\n",
       "      <td>1</td>\n",
       "      <td>Heavyweights (1994)</td>\n",
       "      <td>01-Jan-1994</td>\n",
       "      <td>0</td>\n",
       "      <td>0</td>\n",
       "      <td>0</td>\n",
       "      <td>0</td>\n",
       "      <td>...</td>\n",
       "      <td>0</td>\n",
       "      <td>0</td>\n",
       "      <td>0</td>\n",
       "      <td>0</td>\n",
       "      <td>0</td>\n",
       "      <td>0</td>\n",
       "      <td>25</td>\n",
       "      <td>M</td>\n",
       "      <td>writer</td>\n",
       "      <td>40206</td>\n",
       "    </tr>\n",
       "    <tr>\n",
       "      <th>3</th>\n",
       "      <td>3</td>\n",
       "      <td>244</td>\n",
       "      <td>51</td>\n",
       "      <td>2</td>\n",
       "      <td>Legends of the Fall (1994)</td>\n",
       "      <td>01-Jan-1994</td>\n",
       "      <td>0</td>\n",
       "      <td>0</td>\n",
       "      <td>0</td>\n",
       "      <td>0</td>\n",
       "      <td>...</td>\n",
       "      <td>0</td>\n",
       "      <td>1</td>\n",
       "      <td>0</td>\n",
       "      <td>0</td>\n",
       "      <td>1</td>\n",
       "      <td>1</td>\n",
       "      <td>28</td>\n",
       "      <td>M</td>\n",
       "      <td>technician</td>\n",
       "      <td>80525</td>\n",
       "    </tr>\n",
       "    <tr>\n",
       "      <th>4</th>\n",
       "      <td>4</td>\n",
       "      <td>166</td>\n",
       "      <td>346</td>\n",
       "      <td>1</td>\n",
       "      <td>Jackie Brown (1997)</td>\n",
       "      <td>01-Jan-1997</td>\n",
       "      <td>0</td>\n",
       "      <td>0</td>\n",
       "      <td>0</td>\n",
       "      <td>0</td>\n",
       "      <td>...</td>\n",
       "      <td>0</td>\n",
       "      <td>0</td>\n",
       "      <td>0</td>\n",
       "      <td>0</td>\n",
       "      <td>0</td>\n",
       "      <td>0</td>\n",
       "      <td>47</td>\n",
       "      <td>M</td>\n",
       "      <td>educator</td>\n",
       "      <td>55113</td>\n",
       "    </tr>\n",
       "  </tbody>\n",
       "</table>\n",
       "<p>5 rows × 29 columns</p>\n",
       "</div>"
      ],
      "text/plain": [
       "   Unnamed: 0  user_id  item_id  rating                 movie_title  \\\n",
       "0           0      196      242       3                Kolya (1996)   \n",
       "1           1      186      302       3    L.A. Confidential (1997)   \n",
       "2           2       22      377       1         Heavyweights (1994)   \n",
       "3           3      244       51       2  Legends of the Fall (1994)   \n",
       "4           4      166      346       1         Jackie Brown (1997)   \n",
       "\n",
       "  release_date  unknown  Action  Adventure  Animation  ...  Mystery  Romance  \\\n",
       "0  24-Jan-1997        0       0          0          0  ...        0        0   \n",
       "1  01-Jan-1997        0       0          0          0  ...        1        0   \n",
       "2  01-Jan-1994        0       0          0          0  ...        0        0   \n",
       "3  01-Jan-1994        0       0          0          0  ...        0        1   \n",
       "4  01-Jan-1997        0       0          0          0  ...        0        0   \n",
       "\n",
       "   Sci-Fi  Thriller  War  Western  age  gender  occupation  zip_code  \n",
       "0       0         0    0        0   49       M      writer     55105  \n",
       "1       0         1    0        0   39       F   executive     00000  \n",
       "2       0         0    0        0   25       M      writer     40206  \n",
       "3       0         0    1        1   28       M  technician     80525  \n",
       "4       0         0    0        0   47       M    educator     55113  \n",
       "\n",
       "[5 rows x 29 columns]"
      ]
     },
     "execution_count": 10,
     "metadata": {},
     "output_type": "execute_result"
    }
   ],
   "source": [
    "# movielens 데이터 로드\n",
    "df = pd.read_csv('./ml_merged.csv')\n",
    "df.head()"
   ]
  },
  {
   "cell_type": "markdown",
   "metadata": {},
   "source": [
    "## Scene\n",
    "1. 사용자가 chat 화면에 들어오면, 사용자에 대한 정보 로드\n",
    "2. 영화 추천해줘\n",
    "    - 현재 가장 인기있는 영화는 이거에요! (점수 기준 top 5개)\n",
    "3. 다른 영화 추천해줘\n",
    "    - 맘에 들지 않으시군요! 혹시 어떤 장르의 영화를 원하시나요?\n",
    "4. 액션\n",
    "    - 현재 경민님의 영화 이력을 보아하니 액션에서는 이런 스토리의 영화를 좋아시는군요. 경민님과 성향이 비슷한 다른 분들은 이러한 걸 봤었습니다!"
   ]
  },
  {
   "cell_type": "code",
   "execution_count": 15,
   "metadata": {},
   "outputs": [],
   "source": []
  },
  {
   "cell_type": "code",
   "execution_count": 16,
   "metadata": {},
   "outputs": [
    {
     "data": {
      "text/plain": [
       "''"
      ]
     },
     "execution_count": 16,
     "metadata": {},
     "output_type": "execute_result"
    }
   ],
   "source": []
  },
  {
   "cell_type": "code",
   "execution_count": 18,
   "metadata": {},
   "outputs": [
    {
     "data": {
      "image/png": "[encoded data removed]",
      "text/plain": [
       "<IPython.core.display.Image object>"
      ]
     },
     "metadata": {},
     "output_type": "display_data"
    }
   ],
   "source": [
    "# State 정의\n",
    "class State(TypedDict):\n",
    "    \n",
    "    # about user\n",
    "    user_age: int\n",
    "    user_gender: str\n",
    "    user_occupation: str\n",
    "    \n",
    "    # about query\n",
    "    input_query: str\n",
    "    intention: str\n",
    "    response: str\n",
    "\n",
    "\n",
    "# Node 정의\n",
    "def user_info(state):\n",
    "    age = input(\"user age: \")\n",
    "    gender = input(\"user gender: \")\n",
    "    occupation = input(\"user occupation: \")\n",
    "    print(\"Checked User Info...\")\n",
    "    \n",
    "    return {\"user_age\": age, \"user_gender\": gender, \"user_occupation\": occupation}\n",
    "    \n",
    "    \n",
    "def intention_recommendation(state):\n",
    "    print(\"Intention Checked: RECOMMENDATION...\")\n",
    "    return {\"intention\": \"recommendation\"}\n",
    "\n",
    "\n",
    "def node_2_2(state):\n",
    "    print(\"recommendation based on the data\")\n",
    "    \n",
    "    \n",
    "def intention_others(state):\n",
    "    print(\"Intention Checked: OTHERS...\")\n",
    "    return {\"intention\": \"Others\"}\n",
    "\n",
    "\n",
    "# \n",
    "def get_intent(state: State) -> Literal[\"intention_recommendation\", \"intention_others\"]:\n",
    "\n",
    "    query = state.get(\"input_query\", \"\")\n",
    "\n",
    "    intention_check_system = \"\"\"\n",
    "    You are a robot that classifies the user's intent based on their question.\n",
    "    If the user's question is about asking for a recommendation, respond with 'Recommendation'.\n",
    "    For all other questions, respond with 'Other'.\n",
    "    \"\"\"\n",
    "    \n",
    "    intention_check_prompt = ChatPromptTemplate.from_messages(\n",
    "        [(\"system\", intention_check_system), (\"placeholder\", \"{messages}\")]\n",
    "    )\n",
    "\n",
    "    intention_check = intention_check_prompt | ChatOpenAI(\n",
    "        model=\"gpt-4o\", temperature=0\n",
    "    )\n",
    "\n",
    "    response = intention_check.invoke(\n",
    "        {\"messages\": [(\"user\", query)]}\n",
    "    )   \n",
    "    \n",
    "    if response.content == \"Recommendation\":\n",
    "        return \"intention_recommendation\"\n",
    "\n",
    "    return \"intention_others\"\n",
    "\n",
    "\n",
    "def recommendataion_baseed_on_data(state):\n",
    "    print(\"recommendation based on the data\")\n",
    "    loader = CSVLoader(file_path=\"dummy_data.csv\")\n",
    "    data = loader.load()\n",
    "    \n",
    "    text_splitter = CharacterTextSplitter(chunk_size=1000, chunk_overlap=0) \n",
    "    texts = text_splitter.split_documents(data)\n",
    "    \n",
    "    #embeddings model, this can be aa local LLM as well\n",
    "    embeddings = OpenAIEmbeddings(openai_api_key=os.environ['OPENAI_API_KEY'])\n",
    "    llm = OpenAI(openai_api_key=os.environ['OPENAI_API_KEY'])\n",
    "\n",
    "    #Vector DB\n",
    "    docsearch = Chroma.from_documents(texts, embeddings)\n",
    "    \n",
    "    #Retriever\n",
    "    qa = RetrievalQA.from_chain_type(llm=llm, chain_type=\"stuff\", retriever=docsearch.as_retriever())\n",
    "    response = qa.run(state[\"input_query\"]).split(\".\")\n",
    "    \n",
    "    return {\"response\": ' '.join(response)}\n",
    "    \n",
    "    \n",
    "\n",
    "# Build graph\n",
    "builder = StateGraph(State)\n",
    "builder.add_node(\"user_info\", user_info)\n",
    "builder.add_node(\"intention_recommendation\", intention_recommendation)\n",
    "builder.add_node(\"node_2_2\", recommendataion_baseed_on_data)\n",
    "builder.add_node(\"intention_others\", intention_others)\n",
    "\n",
    "# Logic\n",
    "builder.add_edge(START, \"user_info\")\n",
    "builder.add_conditional_edges(\"user_info\", get_intent)\n",
    "builder.add_edge(\"intention_recommendation\", \"node_2_2\")\n",
    "builder.add_edge(\"node_2_2\", END)\n",
    "builder.add_edge(\"intention_others\", END)\n",
    "\n",
    "# Add\n",
    "graph = builder.compile()\n",
    "\n",
    "# View\n",
    "display(Image(graph.get_graph().draw_mermaid_png()))"
   ]
  },
  {
   "cell_type": "code",
   "execution_count": 21,
   "metadata": {},
   "outputs": [
    {
     "name": "stdout",
     "output_type": "stream",
     "text": [
      "Checked User Info...\n",
      "Intention Checked: OTHERS...\n"
     ]
    },
    {
     "data": {
      "text/plain": [
       "{'user_age': '30',\n",
       " 'user_gender': 'R',\n",
       " 'user_occupation': 'Student',\n",
       " 'input_query': '앞으로의 트럼프의 행보는 어떻게 될까',\n",
       " 'intention': 'Others'}"
      ]
     },
     "execution_count": 21,
     "metadata": {},
     "output_type": "execute_result"
    }
   ],
   "source": [
    "# Thread\n",
    "thread = {\"configurable\": {\"thread_id\": \"1\"}}\n",
    "graph.invoke({\"input_query\":\"앞으로의 트럼프의 행보는 어떻게 될까\"})"
   ]
  },
  {
   "cell_type": "code",
   "execution_count": 20,
   "metadata": {},
   "outputs": [
    {
     "ename": "TypeError",
     "evalue": "Pregel.get_state() missing 1 required positional argument: 'config'",
     "output_type": "error",
     "traceback": [
      "\u001b[1;31m---------------------------------------------------------------------------\u001b[0m",
      "\u001b[1;31mTypeError\u001b[0m                                 Traceback (most recent call last)",
      "Cell \u001b[1;32mIn[20], line 1\u001b[0m\n\u001b[1;32m----> 1\u001b[0m \u001b[43mgraph\u001b[49m\u001b[38;5;241;43m.\u001b[39;49m\u001b[43mget_state\u001b[49m\u001b[43m(\u001b[49m\u001b[43m)\u001b[49m\n",
      "\u001b[1;31mTypeError\u001b[0m: Pregel.get_state() missing 1 required positional argument: 'config'"
     ]
    }
   ],
   "source": [
    "graph.get_state"
   ]
  },
  {
   "cell_type": "code",
   "execution_count": 19,
   "metadata": {},
   "outputs": [
    {
     "name": "stdout",
     "output_type": "stream",
     "text": [
      "---Node 1---\n",
      "---recommend---\n",
      "recommendation based on the data\n"
     ]
    }
   ],
   "source": [
    "output = graph.invoke({\"input_query\":\"Suggest 2 articles to user-id 78 using given data which it has not seen.\\\n",
    "Follow this approach 1: Find similar Users and 2: sugest new articles from similar users.\\\n",
    "Also give a reason for suggestion\"})"
   ]
  },
  {
   "cell_type": "code",
   "execution_count": 20,
   "metadata": {},
   "outputs": [
    {
     "data": {
      "text/plain": [
       "{'input_query': 'Suggest 2 articles to user-id 78 using given data which it has not seen.Follow this approach 1: Find similar Users and 2: sugest new articles from similar users.Also give a reason for suggestion',\n",
       " 'intention': '추천',\n",
       " 'response': '\\n1  User 78 has not seen any articles in the dataset, so there are no similar users to recommend articles from \\n2  Based on the given data, I would recommend the following two articles to user 78:\\n- \"The Top 10 Benefits of Meditation\" (item_id 14): This article has been seen by users 5 and 6, who have also seen a lot of other articles related to self-care and mindfulness  Since user 78 has not seen any articles, this could be a good starting point for them to explore this topic \\n- \"How to Start a Daily Journal Practice\" (item_id 12): This article has been seen by user 12, who has also seen a lot of other articles related to self-improvement and personal growth  Since user 78 has not seen any articles, this could be a good opportunity for them to discover new ways to work on themselves '}"
      ]
     },
     "execution_count": 20,
     "metadata": {},
     "output_type": "execute_result"
    }
   ],
   "source": [
    "output"
   ]
  },
  {
   "cell_type": "code",
   "execution_count": 21,
   "metadata": {},
   "outputs": [
    {
     "name": "stdout",
     "output_type": "stream",
     "text": [
      "\n",
      "1  User 78 has not seen any articles in the dataset, so there are no similar users to recommend articles from \n",
      "2  Based on the given data, I would recommend the following two articles to user 78:\n",
      "- \"The Top 10 Benefits of Meditation\" (item_id 14): This article has been seen by users 5 and 6, who have also seen a lot of other articles related to self-care and mindfulness  Since user 78 has not seen any articles, this could be a good starting point for them to explore this topic \n",
      "- \"How to Start a Daily Journal Practice\" (item_id 12): This article has been seen by user 12, who has also seen a lot of other articles related to self-improvement and personal growth  Since user 78 has not seen any articles, this could be a good opportunity for them to discover new ways to work on themselves \n"
     ]
    }
   ],
   "source": [
    "print(output['response'])"
   ]
  },
  {
   "cell_type": "code",
   "execution_count": 24,
   "metadata": {},
   "outputs": [
    {
     "name": "stdout",
     "output_type": "stream",
     "text": [
      "---Node 1---\n",
      "---recommend---\n",
      "recommendation based on the data\n"
     ]
    },
    {
     "data": {
      "text/plain": [
       "{'input_query': 'user-id 78번게 주어진 데이터를 사용하여 아직 보지 않은 기사 2개를 추천하세요.     다음 접근 방식을 따르세요: 1. 유사한 사용자를 찾고         2. 유사한 사용자로부터 새로운 기사를 추천하세요. 또한 추천 이유를 제시하세요.',\n",
       " 'intention': '추천',\n",
       " 'response': \" I'm sorry, I don't have enough information to answer this question  The given context does not provide any information about other users or their preferences, so it is not possible to find similar users or recommend new articles based on that  \"}"
      ]
     },
     "execution_count": 24,
     "metadata": {},
     "output_type": "execute_result"
    }
   ],
   "source": [
    "graph.invoke({\"input_query\": \"user-id 78번에게 주어진 데이터를 사용하여 아직 보지 않은 기사 2개를 추천하세요. \\\n",
    "    다음 접근 방식을 따르세요: 1. 유사한 사용자를 찾고 \\\n",
    "        2. 유사한 사용자로부터 새로운 기사를 추천하세요. 또한 추천 이유를 제시하세요.\"})\n",
    "\n"
   ]
  },
  {
   "cell_type": "code",
   "execution_count": null,
   "metadata": {},
   "outputs": [],
   "source": []
  },
  {
   "cell_type": "code",
   "execution_count": null,
   "metadata": {},
   "outputs": [],
   "source": []
  },
  {
   "cell_type": "code",
   "execution_count": null,
   "metadata": {},
   "outputs": [],
   "source": []
  },
  {
   "cell_type": "code",
   "execution_count": null,
   "metadata": {},
   "outputs": [],
   "source": []
  },
  {
   "cell_type": "code",
   "execution_count": null,
   "metadata": {},
   "outputs": [],
   "source": []
  },
  {
   "cell_type": "code",
   "execution_count": null,
   "metadata": {},
   "outputs": [],
   "source": [
    "# tool_node..?\n",
    "def text_spliter(data):\n",
    "    \"\"\"\n",
    "    그냥 텍스트 splitter 넣어봄\n",
    "    \"\"\"\n",
    "    text_splitter = CharacterTextSplitter(chunk_size=1000, chunk_overlap=0)\n",
    "    texts = text_splitter.split_documents(data)\n",
    "\n",
    "    return texts\n",
    "\n",
    "def embedding(texts):\n",
    "    #embeddings model, this can be aa local LLM as well\n",
    "    embeddings = OpenAIEmbeddings(openai_api_key=os.environ['OPENAI_API_KEY'])\n",
    "    llm = OpenAI(openai_api_key=os.environ['OPENAI_API_KEY'])\n",
    "\n",
    "    #Vector DB\n",
    "    docsearch = Chroma.from_documents(texts, embeddings)\n",
    "    return docsearch\n",
    "\n",
    "\n",
    "\n",
    "\n",
    "\n",
    "\n"
   ]
  }
 ],
 "metadata": {
  "kernelspec": {
   "display_name": "lc-academy-env",
   "language": "python",
   "name": "python3"
  },
  "language_info": {
   "codemirror_mode": {
    "name": "ipython",
    "version": 3
   },
   "file_extension": ".py",
   "mimetype": "text/x-python",
   "name": "python",
   "nbconvert_exporter": "python",
   "pygments_lexer": "ipython3",
   "version": "3.11.9"
  }
 },
 "nbformat": 4,
 "nbformat_minor": 2
}
