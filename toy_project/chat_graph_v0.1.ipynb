{
 "cells": [
  {
   "cell_type": "code",
   "execution_count": 1,
   "metadata": {},
   "outputs": [],
   "source": [
    "# Load libraries\n",
    "import os\n",
    "import random\n",
    "from typing import Literal\n",
    "from typing_extensions import TypedDict\n",
    "from dotenv import load_dotenv, find_dotenv\n",
    "\n",
    "from langchain_core.messages import HumanMessage, SystemMessage, RemoveMessage\n",
    "from langgraph.graph import MessagesState\n",
    "from langgraph.graph import StateGraph, START, END\n",
    "from langchain_openai import ChatOpenAI\n",
    "\n",
    "from langchain.chains import RetrievalQA\n",
    "from langchain.document_loaders import TextLoader\n",
    "from langchain.embeddings.openai import OpenAIEmbeddings\n",
    "from langchain.llms import OpenAI\n",
    "from langchain.text_splitter import CharacterTextSplitter\n",
    "from langchain.document_loaders.csv_loader import CSVLoader\n",
    "from langchain.vectorstores import Chroma\n",
    "from langchain_core.prompts import ChatPromptTemplate\n",
    "from IPython.display import Image, display\n",
    "\n",
    "# import chromadb"
   ]
  },
  {
   "cell_type": "code",
   "execution_count": 2,
   "metadata": {},
   "outputs": [],
   "source": [
    "# LLM 모델 정의\n",
    "model = ChatOpenAI(model=\"gpt-4o\", temperature=0)"
   ]
  },
  {
   "cell_type": "code",
   "execution_count": 3,
   "metadata": {},
   "outputs": [
    {
     "name": "stdout",
     "output_type": "stream",
     "text": [
      "sample data: \n",
      " page_content='user_id: 1\n",
      "item_id: [1, 0, 0, 0, 0, 6, 0, 8, 0, 0, 0, 12, 0, 14, 0, 16, 17, 18, 0, 0]' metadata={'source': 'dummy_data.csv', 'row': 0}\n"
     ]
    }
   ],
   "source": [
    "# 추천데이터 로드\n",
    "loader = CSVLoader(file_path=\"dummy_data.csv\")\n",
    "data = loader.load()\n",
    "print(\"sample data: \\n\", data[0])"
   ]
  },
  {
   "cell_type": "code",
   "execution_count": 15,
   "metadata": {},
   "outputs": [],
   "source": [
    "# State 정의\n",
    "class State(TypedDict):\n",
    "    input_query: str\n",
    "    intention: str\n",
    "    response: str"
   ]
  },
  {
   "cell_type": "code",
   "execution_count": 16,
   "metadata": {},
   "outputs": [
    {
     "data": {
      "image/png": "[encoded data removed]",
      "text/plain": [
       "<IPython.core.display.Image object>"
      ]
     },
     "metadata": {},
     "output_type": "display_data"
    }
   ],
   "source": [
    "# Node 정의\n",
    "def node_1(state):\n",
    "    print(\"---Node 1---\")\n",
    "\n",
    "def node_2(state):\n",
    "    print(\"---recommend---\")\n",
    "    return {\"intention\": \"추천\"}\n",
    "\n",
    "def node_2_2(state):\n",
    "    print(\"recommendation based on the data\")\n",
    "    \n",
    "def node_3(state):\n",
    "    print(\"---others---\")\n",
    "    return {\"intention\": \"기타\"}\n",
    "\n",
    "def intention(state: State) -> Literal[\"node_2\", \"node_3\"]:\n",
    "\n",
    "    query = state.get(\"input_query\", \"\")\n",
    "\n",
    "    intention_check_system = \"\"\"너는 사용자의 질문을 파악하여 의도를 분류하는 로봇이야.\n",
    "    사용자의 질문이 추천해달라는 내용이면 '추천', 그 외의 내용이면 '기타'로 답해\n",
    "    \"\"\"\n",
    "    \n",
    "    intention_check_prompt = ChatPromptTemplate.from_messages(\n",
    "        [(\"system\", intention_check_system), (\"placeholder\", \"{messages}\")]\n",
    "    )\n",
    "\n",
    "    intention_check = intention_check_prompt | ChatOpenAI(\n",
    "        model=\"gpt-4o\", temperature=0\n",
    "    )\n",
    "\n",
    "    response = intention_check.invoke(\n",
    "        {\"messages\": [(\"user\", query)]}\n",
    "    )   \n",
    "    \n",
    "    if response.content == \"추천\":\n",
    "        return \"node_2\"\n",
    "\n",
    "    return \"node_3\"\n",
    "\n",
    "def recommendataion_baseed_on_data(state):\n",
    "    print(\"recommendation based on the data\")\n",
    "    loader = CSVLoader(file_path=\"dummy_data.csv\")\n",
    "    data = loader.load()\n",
    "    \n",
    "    text_splitter = CharacterTextSplitter(chunk_size=1000, chunk_overlap=0) \n",
    "    texts = text_splitter.split_documents(data)\n",
    "    \n",
    "    #embeddings model, this can be aa local LLM as well\n",
    "    embeddings = OpenAIEmbeddings(openai_api_key=os.environ['OPENAI_API_KEY'])\n",
    "    llm = OpenAI(openai_api_key=os.environ['OPENAI_API_KEY'])\n",
    "\n",
    "    #Vector DB\n",
    "    docsearch = Chroma.from_documents(texts, embeddings)\n",
    "    \n",
    "    #Retriever\n",
    "    qa = RetrievalQA.from_chain_type(llm=llm, chain_type=\"stuff\", retriever=docsearch.as_retriever())\n",
    "    response = qa.run(state[\"input_query\"]).split(\".\")\n",
    "    \n",
    "    return {\"response\": ' '.join(response)}\n",
    "    \n",
    "    \n",
    "\n",
    "# Build graph\n",
    "builder = StateGraph(State)\n",
    "builder.add_node(\"node_1\", node_1)\n",
    "builder.add_node(\"node_2\", node_2)\n",
    "builder.add_node(\"node_2_2\", recommendataion_baseed_on_data)\n",
    "builder.add_node(\"node_3\", node_3)\n",
    "\n",
    "# Logic\n",
    "builder.add_edge(START, \"node_1\")\n",
    "builder.add_conditional_edges(\"node_1\", intention)\n",
    "builder.add_edge(\"node_2\", \"node_2_2\")\n",
    "builder.add_edge(\"node_2_2\", END)\n",
    "builder.add_edge(\"node_3\", END)\n",
    "\n",
    "# Add\n",
    "graph = builder.compile()\n",
    "\n",
    "# View\n",
    "display(Image(graph.get_graph().draw_mermaid_png()))"
   ]
  },
  {
   "cell_type": "code",
   "execution_count": 22,
   "metadata": {},
   "outputs": [
    {
     "name": "stdout",
     "output_type": "stream",
     "text": [
      "---Node 1---\n",
      "---others---\n"
     ]
    },
    {
     "data": {
      "text/plain": [
       "{'input_query': '앞으로의 트럼프의 행보는 어떻게 될까', 'intention': '기타'}"
      ]
     },
     "execution_count": 22,
     "metadata": {},
     "output_type": "execute_result"
    }
   ],
   "source": [
    "graph.invoke({\"input_query\":\"앞으로의 트럼프의 행보는 어떻게 될까\"})"
   ]
  },
  {
   "cell_type": "code",
   "execution_count": 19,
   "metadata": {},
   "outputs": [
    {
     "name": "stdout",
     "output_type": "stream",
     "text": [
      "---Node 1---\n",
      "---recommend---\n",
      "recommendation based on the data\n"
     ]
    }
   ],
   "source": [
    "output = graph.invoke({\"input_query\":\"Suggest 2 articles to user-id 78 using given data which it has not seen.\\\n",
    "Follow this approach 1: Find similar Users and 2: sugest new articles from similar users.\\\n",
    "Also give a reason for suggestion\"})"
   ]
  },
  {
   "cell_type": "code",
   "execution_count": 20,
   "metadata": {},
   "outputs": [
    {
     "data": {
      "text/plain": [
       "{'input_query': 'Suggest 2 articles to user-id 78 using given data which it has not seen.Follow this approach 1: Find similar Users and 2: sugest new articles from similar users.Also give a reason for suggestion',\n",
       " 'intention': '추천',\n",
       " 'response': '\\n1  User 78 has not seen any articles in the dataset, so there are no similar users to recommend articles from \\n2  Based on the given data, I would recommend the following two articles to user 78:\\n- \"The Top 10 Benefits of Meditation\" (item_id 14): This article has been seen by users 5 and 6, who have also seen a lot of other articles related to self-care and mindfulness  Since user 78 has not seen any articles, this could be a good starting point for them to explore this topic \\n- \"How to Start a Daily Journal Practice\" (item_id 12): This article has been seen by user 12, who has also seen a lot of other articles related to self-improvement and personal growth  Since user 78 has not seen any articles, this could be a good opportunity for them to discover new ways to work on themselves '}"
      ]
     },
     "execution_count": 20,
     "metadata": {},
     "output_type": "execute_result"
    }
   ],
   "source": [
    "output"
   ]
  },
  {
   "cell_type": "code",
   "execution_count": 21,
   "metadata": {},
   "outputs": [
    {
     "name": "stdout",
     "output_type": "stream",
     "text": [
      "\n",
      "1  User 78 has not seen any articles in the dataset, so there are no similar users to recommend articles from \n",
      "2  Based on the given data, I would recommend the following two articles to user 78:\n",
      "- \"The Top 10 Benefits of Meditation\" (item_id 14): This article has been seen by users 5 and 6, who have also seen a lot of other articles related to self-care and mindfulness  Since user 78 has not seen any articles, this could be a good starting point for them to explore this topic \n",
      "- \"How to Start a Daily Journal Practice\" (item_id 12): This article has been seen by user 12, who has also seen a lot of other articles related to self-improvement and personal growth  Since user 78 has not seen any articles, this could be a good opportunity for them to discover new ways to work on themselves \n"
     ]
    }
   ],
   "source": [
    "print(output['response'])"
   ]
  },
  {
   "cell_type": "code",
   "execution_count": 24,
   "metadata": {},
   "outputs": [
    {
     "name": "stdout",
     "output_type": "stream",
     "text": [
      "---Node 1---\n",
      "---recommend---\n",
      "recommendation based on the data\n"
     ]
    },
    {
     "data": {
      "text/plain": [
       "{'input_query': 'user-id 78번게 주어진 데이터를 사용하여 아직 보지 않은 기사 2개를 추천하세요.     다음 접근 방식을 따르세요: 1. 유사한 사용자를 찾고         2. 유사한 사용자로부터 새로운 기사를 추천하세요. 또한 추천 이유를 제시하세요.',\n",
       " 'intention': '추천',\n",
       " 'response': \" I'm sorry, I don't have enough information to answer this question  The given context does not provide any information about other users or their preferences, so it is not possible to find similar users or recommend new articles based on that  \"}"
      ]
     },
     "execution_count": 24,
     "metadata": {},
     "output_type": "execute_result"
    }
   ],
   "source": [
    "graph.invoke({\"input_query\": \"user-id 78번에게 주어진 데이터를 사용하여 아직 보지 않은 기사 2개를 추천하세요. \\\n",
    "    다음 접근 방식을 따르세요: 1. 유사한 사용자를 찾고 \\\n",
    "        2. 유사한 사용자로부터 새로운 기사를 추천하세요. 또한 추천 이유를 제시하세요.\"})\n",
    "\n"
   ]
  },
  {
   "cell_type": "code",
   "execution_count": null,
   "metadata": {},
   "outputs": [],
   "source": []
  },
  {
   "cell_type": "code",
   "execution_count": null,
   "metadata": {},
   "outputs": [],
   "source": []
  },
  {
   "cell_type": "code",
   "execution_count": null,
   "metadata": {},
   "outputs": [],
   "source": []
  },
  {
   "cell_type": "code",
   "execution_count": null,
   "metadata": {},
   "outputs": [],
   "source": []
  },
  {
   "cell_type": "code",
   "execution_count": null,
   "metadata": {},
   "outputs": [],
   "source": []
  },
  {
   "cell_type": "code",
   "execution_count": null,
   "metadata": {},
   "outputs": [],
   "source": [
    "# tool_node..?\n",
    "def text_spliter(data):\n",
    "    \"\"\"\n",
    "    그냥 텍스트 splitter 넣어봄\n",
    "    \"\"\"\n",
    "    text_splitter = CharacterTextSplitter(chunk_size=1000, chunk_overlap=0)\n",
    "    texts = text_splitter.split_documents(data)\n",
    "\n",
    "    return texts\n",
    "\n",
    "def embedding(texts):\n",
    "    #embeddings model, this can be aa local LLM as well\n",
    "    embeddings = OpenAIEmbeddings(openai_api_key=os.environ['OPENAI_API_KEY'])\n",
    "    llm = OpenAI(openai_api_key=os.environ['OPENAI_API_KEY'])\n",
    "\n",
    "    #Vector DB\n",
    "    docsearch = Chroma.from_documents(texts, embeddings)\n",
    "    return docsearch\n",
    "\n",
    "\n",
    "\n",
    "\n",
    "\n",
    "\n"
   ]
  }
 ],
 "metadata": {
  "kernelspec": {
   "display_name": "lc-academy-env",
   "language": "python",
   "name": "python3"
  },
  "language_info": {
   "codemirror_mode": {
    "name": "ipython",
    "version": 3
   },
   "file_extension": ".py",
   "mimetype": "text/x-python",
   "name": "python",
   "nbconvert_exporter": "python",
   "pygments_lexer": "ipython3",
   "version": "3.11.9"
  }
 },
 "nbformat": 4,
 "nbformat_minor": 2
}
